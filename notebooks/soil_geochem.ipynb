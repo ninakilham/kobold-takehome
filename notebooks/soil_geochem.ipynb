{
 "cells": [
  {
   "cell_type": "code",
   "execution_count": null,
   "metadata": {},
   "outputs": [],
   "source": [
    "# -- install required packages\n",
    "#%pip install scikit-gstat\n",
    "#%pip install pytest\n",
    "#%pip install matplotlib-scalebar"
   ]
  },
  {
   "cell_type": "code",
   "execution_count": null,
   "metadata": {},
   "outputs": [],
   "source": [
    "import os\n",
    "import pandas as pd\n",
    "import numpy as np\n",
    "import skgstat as skg\n",
    "import matplotlib.pyplot as plt\n",
    "from matplotlib_scalebar.scalebar import ScaleBar\n",
    "from scipy.interpolate import NearestNDInterpolator\n",
    "\n",
    "plt.style.use('ggplot')\n",
    "skg.plotting.backend('matplotlib')"
   ]
  },
  {
   "attachments": {},
   "cell_type": "markdown",
   "metadata": {},
   "source": [
    "### Soil geochemistry take-home\n",
    "_author: Nina Kilham_\n",
    "\n",
    "April 21, 2025\n",
    "\n",
    "**Background:** The objective is to infer and plot a continuous spatial distribution of trace metal concentrations for an entire area from a set of soil samples taken in the field. The two metals measured are of copper (Cu) and/or Cobalt (Co) given in parts-per-million at several sample locations. "
   ]
  },
  {
   "cell_type": "code",
   "execution_count": null,
   "metadata": {},
   "outputs": [],
   "source": [
    "# -- get the sample point\n",
    "filepath = '/Users/ninakilham/Documents/GitHub/kobold-takehome/data/soil_geochemistry.csv'\n",
    "df = pd.read_csv(filepath)"
   ]
  },
  {
   "cell_type": "code",
   "execution_count": null,
   "metadata": {},
   "outputs": [],
   "source": [
    "# -- look at the file contents\n",
    "df.head()"
   ]
  },
  {
   "cell_type": "code",
   "execution_count": null,
   "metadata": {},
   "outputs": [],
   "source": [
    "# -- plot an overview of each element\n",
    "fig, ax = plt.subplots(1,2, figsize=(10, 5))\n",
    "cmap1 = ax[0].scatter(df.x, df.y, s=50, c=df.Cu, cmap='plasma')\n",
    "cmap2 = ax[1].scatter(df.x, df.y, s=50, c=df.Co, cmap='plasma')\n",
    "ax[0].set_title('Copper')\n",
    "ax[1].set_title('Cobalt')\n",
    "fig.colorbar(cmap1, ax=ax[0])\n",
    "fig.colorbar(cmap2, ax=ax[1])"
   ]
  },
  {
   "cell_type": "code",
   "execution_count": null,
   "metadata": {},
   "outputs": [],
   "source": [
    "# -- look at the distributions\n",
    "fig, ax = plt.subplots(1,2, figsize=(15, 5))\n",
    "df.plot.hist(column=['Co'], bins=50, ax=ax[0])\n",
    "df.plot.hist(column=['Cu'], bins=50, ax=ax[1])\n",
    "ax[0].set_xlabel('Copper (ppm)')\n",
    "ax[1].set_ylabel('Cobalt (ppm)')"
   ]
  },
  {
   "cell_type": "code",
   "execution_count": null,
   "metadata": {},
   "outputs": [],
   "source": [
    "# -- how many sample locations do not have data?\n",
    "print(f'Of the {df.shape[0]} sample locations, {df.Cu.isna().sum()} do not have copper samples and {df.Co.isna().sum()} do not have Cobalt')"
   ]
  },
  {
   "attachments": {},
   "cell_type": "markdown",
   "metadata": {},
   "source": [
    "### Variogram\n",
    "\n",
    "From the plots, it looks like there are a couple of hotspots, and several locations with very low values. We are interested in how the values vary by location, so that we may predict the distribution of the full field. We can model this using a variogram relating pair-wise distances of the coordinates to the semi-variance of the corresponding value pairs."
   ]
  },
  {
   "cell_type": "code",
   "execution_count": null,
   "metadata": {},
   "outputs": [],
   "source": [
    "# -- Start with copper\n",
    "V = skg.Variogram(df[['x', 'y']].values, df['Cu'].values, n_lags=15, normalize=False\n",
    "                  )\n",
    "fig = V.plot(show=False)"
   ]
  },
  {
   "attachments": {},
   "cell_type": "markdown",
   "metadata": {},
   "source": [
    "We can see that the first bins are not well-captured, so adding a nugget may be necessary. Also, the default spherical model doesn't capture the shape very well."
   ]
  },
  {
   "cell_type": "code",
   "execution_count": null,
   "metadata": {},
   "outputs": [],
   "source": [
    "# cycle through the possible models to see which fits best, and using scotts rule to select the bins\n",
    "V.bin_func = 'scott'\n",
    "fig, _a = plt.subplots(2,3, figsize=(12, 6), sharex=True, sharey=True)\n",
    "axes = _a.flatten()\n",
    "for i, model in enumerate(('spherical', 'exponential', 'gaussian', 'matern', 'stable', 'cubic')):\n",
    "    V.model = model\n",
    "    V.plot(axes=axes[i], hist=False, show=False)\n",
    "    axes[i].set_title('Model: %s; RMSE: %.2f' % (model, V.rmse))\n",
    "    \n",
    "plt.tight_layout()"
   ]
  },
  {
   "attachments": {},
   "cell_type": "markdown",
   "metadata": {},
   "source": [
    "Of these, the matern model performs best, although the fit to the first and last bins is still poor. Let us see how this looks."
   ]
  },
  {
   "cell_type": "code",
   "execution_count": null,
   "metadata": {},
   "outputs": [],
   "source": [
    "V.model = 'matern'\n",
    "ok = skg.OrdinaryKriging(V, min_points=5, max_points=15, mode='exact')\n",
    "\n",
    "# build the target grid\n",
    "x = df.x.values\n",
    "y = df.y.values\n",
    "vals = df.Cu.values\n",
    "xx, yy = np.mgrid[x.min():x.max():100j, y.min():y.max():100j]\n",
    "field = ok.transform(xx.flatten(), yy.flatten()).reshape(xx.shape)\n",
    "s2 = ok.sigma.reshape(xx.shape)\n"
   ]
  },
  {
   "cell_type": "code",
   "execution_count": null,
   "metadata": {},
   "outputs": [],
   "source": [
    "# -- plot the result\n",
    "fig, axes = plt.subplots(1,2, figsize=(10,5))\n",
    "\n",
    "# rescale the coordinates to fit the interpolation raster\n",
    "x_ = (x - x.min()) / (x.max() - x.min()) * 100\n",
    "y_ = (y - y.min()) / (y.max() - y.min()) * 100\n",
    "\n",
    "cmp1 = axes[0].matshow(field.T, origin='lower', cmap='plasma', vmin=vals.min(), vmax=vals.max())\n",
    "axes[0].set_title('Copper Concentrations (ppm)')\n",
    "axes[0].plot(x_, y_, '+w')\n",
    "axes[0].set_xlim((0, 100))\n",
    "axes[0].set_ylim((0, 100))\n",
    "plt.colorbar(cmap1, ax=axes[0])\n",
    "\n",
    "art = axes[1].matshow(s2.T, origin='lower', cmap='YlGn_r')\n",
    "axes[1].set_title('Kriging Error')\n",
    "plt.colorbar(art, ax=axes[1], format=\"%.1f\")\n",
    "axes[1].plot(x_, y_, '+w')\n",
    "axes[1].set_xlim((0, 100))\n",
    "axes[1].set_ylim((0, 100))\n",
    "\n",
    "scalebar = ScaleBar(0.2, units=\"m\") \n",
    "axes[0].add_artist(scalebar)\n",
    "\n",
    "plt.tight_layout()\n",
    "fileout = os.path.join(os.path.dirname(filepath), 'copper_interpolated_map_with_error.png')\n",
    "plt.savefig(fileout)"
   ]
  },
  {
   "attachments": {},
   "cell_type": "markdown",
   "metadata": {},
   "source": [
    "We can see that the hotspot location is captured reasonably, with greater errors away from the sample location. We could mask out the high error areas if desired. "
   ]
  },
  {
   "attachments": {},
   "cell_type": "markdown",
   "metadata": {},
   "source": [
    "### Cobalt\n",
    "\n",
    "Let's start with looking at all possible models to find the best fit. Recall that some sample locations do not have values for Cobalt, so we will want to drop these first."
   ]
  },
  {
   "cell_type": "code",
   "execution_count": null,
   "metadata": {},
   "outputs": [],
   "source": [
    "cobalt = df.copy().dropna()\n",
    "print(f'There are {cobalt.shape[0]} valid Cobalt samples to use for interpolation')"
   ]
  },
  {
   "cell_type": "code",
   "execution_count": null,
   "metadata": {},
   "outputs": [],
   "source": [
    "V = skg.Variogram(cobalt[['x', 'y']].values, cobalt['Co'].values, n_lags=15, normalize=False)\n",
    "V.bin_func = 'scott'\n",
    "fig, _a = plt.subplots(2,2, figsize=(12, 6), sharex=True, sharey=True)\n",
    "axes = _a.flatten()\n",
    "for i, model in enumerate(('spherical', 'exponential', 'gaussian', 'matern')):\n",
    "    V.model = model\n",
    "    V.plot(axes=axes[i], hist=False, show=False)\n",
    "    axes[i].set_title('Model: %s; RMSE: %.2f' % (model, V.rmse))\n",
    "    \n",
    "plt.tight_layout()"
   ]
  },
  {
   "attachments": {},
   "cell_type": "markdown",
   "metadata": {},
   "source": [
    "None of the models are performing very well, and there is no apparent spatial dependency. So let us just try a simple nearest neighbors interpolation."
   ]
  },
  {
   "cell_type": "code",
   "execution_count": null,
   "metadata": {},
   "outputs": [],
   "source": [
    "# build the target grid\n",
    "x = cobalt.x.values\n",
    "y = cobalt.y.values\n",
    "vals = cobalt.Cu.values\n",
    "X = np.linspace(min(x), max(x))\n",
    "Y = np.linspace(min(y), max(y))\n",
    "xx, yy = np.meshgrid(X, Y)"
   ]
  },
  {
   "cell_type": "code",
   "execution_count": null,
   "metadata": {},
   "outputs": [],
   "source": [
    "# -- do the interpolation\n",
    "interp = NearestNDInterpolator(list(zip(x, y)), vals)\n",
    "Z = interp(xx,yy)"
   ]
  },
  {
   "cell_type": "code",
   "execution_count": null,
   "metadata": {},
   "outputs": [],
   "source": [
    "plt.pcolormesh(xx,yy, Z, shading='auto')\n",
    "plt.plot(x, y, \"w+\")\n",
    "plt.colorbar()\n",
    "plt.axis(\"equal\")\n",
    "plt.title('Cobalt Concentrations (ppm)')\n",
    "plt.show()\n",
    "fileout = os.path.join(os.path.dirname(filepath), 'cobalt_nninterpolated_map.png')\n",
    "plt.savefig(fileout)"
   ]
  },
  {
   "attachments": {},
   "cell_type": "markdown",
   "metadata": {},
   "source": [
    "Althoug simple, this does capture the hot spot and the apparent distribution with the limited samples of Cobalt."
   ]
  },
  {
   "cell_type": "markdown",
   "metadata": {},
   "source": []
  }
 ],
 "metadata": {
  "kernelspec": {
   "display_name": "Python 3",
   "language": "python",
   "name": "python3"
  },
  "language_info": {
   "codemirror_mode": {
    "name": "ipython",
    "version": 3
   },
   "file_extension": ".py",
   "mimetype": "text/x-python",
   "name": "python",
   "nbconvert_exporter": "python",
   "pygments_lexer": "ipython3",
   "version": "3.9.19"
  },
  "orig_nbformat": 4,
  "vscode": {
   "interpreter": {
    "hash": "c2ddc0e7c1a5948cf0575688c4341f15f5f2b71f6946b7d89de4161cef690dd2"
   }
  }
 },
 "nbformat": 4,
 "nbformat_minor": 2
}
